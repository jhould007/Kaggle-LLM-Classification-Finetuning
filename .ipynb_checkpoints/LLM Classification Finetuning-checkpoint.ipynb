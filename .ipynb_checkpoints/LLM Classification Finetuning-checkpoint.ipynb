{
 "cells": [
  {
   "cell_type": "markdown",
   "id": "fc9adafc",
   "metadata": {},
   "source": [
    "# LLM Classification Finetuning\n",
    "By Josh Houlding\n",
    "\n",
    "<b>Competition Page:</b> [https://www.kaggle.com/competitions/llm-classification-finetuning/overview](https://www.kaggle.com/competitions/llm-classification-finetuning/overview)"
   ]
  },
  {
   "cell_type": "markdown",
   "id": "c921db4c",
   "metadata": {},
   "source": [
    "# Loading the data"
   ]
  },
  {
   "cell_type": "code",
   "execution_count": 90,
   "id": "69909fdf",
   "metadata": {},
   "outputs": [],
   "source": [
    "import pandas as pd\n",
    "\n",
    "# Load data\n",
    "train = pd.read_csv(\"train.csv\")\n",
    "test = pd.read_csv(\"test.csv\")\n",
    "sample_submission = pd.read_csv(\"sample_submission.csv\")"
   ]
  },
  {
   "cell_type": "code",
   "execution_count": 91,
   "id": "c74492da",
   "metadata": {},
   "outputs": [
    {
     "name": "stdout",
     "output_type": "stream",
     "text": [
      "Training set shape: (57477, 9)\n"
     ]
    },
    {
     "data": {
      "text/html": [
       "<div>\n",
       "<style scoped>\n",
       "    .dataframe tbody tr th:only-of-type {\n",
       "        vertical-align: middle;\n",
       "    }\n",
       "\n",
       "    .dataframe tbody tr th {\n",
       "        vertical-align: top;\n",
       "    }\n",
       "\n",
       "    .dataframe thead th {\n",
       "        text-align: right;\n",
       "    }\n",
       "</style>\n",
       "<table border=\"1\" class=\"dataframe\">\n",
       "  <thead>\n",
       "    <tr style=\"text-align: right;\">\n",
       "      <th></th>\n",
       "      <th>id</th>\n",
       "      <th>model_a</th>\n",
       "      <th>model_b</th>\n",
       "      <th>prompt</th>\n",
       "      <th>response_a</th>\n",
       "      <th>response_b</th>\n",
       "      <th>winner_model_a</th>\n",
       "      <th>winner_model_b</th>\n",
       "      <th>winner_tie</th>\n",
       "    </tr>\n",
       "  </thead>\n",
       "  <tbody>\n",
       "    <tr>\n",
       "      <th>0</th>\n",
       "      <td>30192</td>\n",
       "      <td>gpt-4-1106-preview</td>\n",
       "      <td>gpt-4-0613</td>\n",
       "      <td>[\"Is it morally right to try to have a certain...</td>\n",
       "      <td>[\"The question of whether it is morally right ...</td>\n",
       "      <td>[\"As an AI, I don't have personal beliefs or o...</td>\n",
       "      <td>1</td>\n",
       "      <td>0</td>\n",
       "      <td>0</td>\n",
       "    </tr>\n",
       "    <tr>\n",
       "      <th>1</th>\n",
       "      <td>53567</td>\n",
       "      <td>koala-13b</td>\n",
       "      <td>gpt-4-0613</td>\n",
       "      <td>[\"What is the difference between marriage lice...</td>\n",
       "      <td>[\"A marriage license is a legal document that ...</td>\n",
       "      <td>[\"A marriage license and a marriage certificat...</td>\n",
       "      <td>0</td>\n",
       "      <td>1</td>\n",
       "      <td>0</td>\n",
       "    </tr>\n",
       "    <tr>\n",
       "      <th>2</th>\n",
       "      <td>65089</td>\n",
       "      <td>gpt-3.5-turbo-0613</td>\n",
       "      <td>mistral-medium</td>\n",
       "      <td>[\"explain function calling. how would you call...</td>\n",
       "      <td>[\"Function calling is the process of invoking ...</td>\n",
       "      <td>[\"Function calling is the process of invoking ...</td>\n",
       "      <td>0</td>\n",
       "      <td>0</td>\n",
       "      <td>1</td>\n",
       "    </tr>\n",
       "    <tr>\n",
       "      <th>3</th>\n",
       "      <td>96401</td>\n",
       "      <td>llama-2-13b-chat</td>\n",
       "      <td>mistral-7b-instruct</td>\n",
       "      <td>[\"How can I create a test set for a very rare ...</td>\n",
       "      <td>[\"Creating a test set for a very rare category...</td>\n",
       "      <td>[\"When building a classifier for a very rare c...</td>\n",
       "      <td>1</td>\n",
       "      <td>0</td>\n",
       "      <td>0</td>\n",
       "    </tr>\n",
       "    <tr>\n",
       "      <th>4</th>\n",
       "      <td>198779</td>\n",
       "      <td>koala-13b</td>\n",
       "      <td>gpt-3.5-turbo-0314</td>\n",
       "      <td>[\"What is the best way to travel from Tel-Aviv...</td>\n",
       "      <td>[\"The best way to travel from Tel Aviv to Jeru...</td>\n",
       "      <td>[\"The best way to travel from Tel-Aviv to Jeru...</td>\n",
       "      <td>0</td>\n",
       "      <td>1</td>\n",
       "      <td>0</td>\n",
       "    </tr>\n",
       "  </tbody>\n",
       "</table>\n",
       "</div>"
      ],
      "text/plain": [
       "       id             model_a              model_b  \\\n",
       "0   30192  gpt-4-1106-preview           gpt-4-0613   \n",
       "1   53567           koala-13b           gpt-4-0613   \n",
       "2   65089  gpt-3.5-turbo-0613       mistral-medium   \n",
       "3   96401    llama-2-13b-chat  mistral-7b-instruct   \n",
       "4  198779           koala-13b   gpt-3.5-turbo-0314   \n",
       "\n",
       "                                              prompt  \\\n",
       "0  [\"Is it morally right to try to have a certain...   \n",
       "1  [\"What is the difference between marriage lice...   \n",
       "2  [\"explain function calling. how would you call...   \n",
       "3  [\"How can I create a test set for a very rare ...   \n",
       "4  [\"What is the best way to travel from Tel-Aviv...   \n",
       "\n",
       "                                          response_a  \\\n",
       "0  [\"The question of whether it is morally right ...   \n",
       "1  [\"A marriage license is a legal document that ...   \n",
       "2  [\"Function calling is the process of invoking ...   \n",
       "3  [\"Creating a test set for a very rare category...   \n",
       "4  [\"The best way to travel from Tel Aviv to Jeru...   \n",
       "\n",
       "                                          response_b  winner_model_a  \\\n",
       "0  [\"As an AI, I don't have personal beliefs or o...               1   \n",
       "1  [\"A marriage license and a marriage certificat...               0   \n",
       "2  [\"Function calling is the process of invoking ...               0   \n",
       "3  [\"When building a classifier for a very rare c...               1   \n",
       "4  [\"The best way to travel from Tel-Aviv to Jeru...               0   \n",
       "\n",
       "   winner_model_b  winner_tie  \n",
       "0               0           0  \n",
       "1               1           0  \n",
       "2               0           1  \n",
       "3               0           0  \n",
       "4               1           0  "
      ]
     },
     "execution_count": 91,
     "metadata": {},
     "output_type": "execute_result"
    }
   ],
   "source": [
    "# Show sample entries\n",
    "print(f\"Training set shape: {train.shape}\")\n",
    "train.head()"
   ]
  },
  {
   "cell_type": "markdown",
   "id": "58a81444",
   "metadata": {},
   "source": [
    "# Cleaning the data"
   ]
  },
  {
   "cell_type": "markdown",
   "id": "ac46f718",
   "metadata": {},
   "source": [
    "### Viewing a sample"
   ]
  },
  {
   "cell_type": "code",
   "execution_count": 92,
   "id": "cfa8fdbd",
   "metadata": {
    "scrolled": false
   },
   "outputs": [
    {
     "name": "stdout",
     "output_type": "stream",
     "text": [
      "Prompt: [\"explain function calling. how would you call a function?\"]\n",
      "\n",
      " Model A response: [\"Function calling is the process of invoking or executing a function in a programming language. To call a function, you need to use the function's name followed by parentheses \\\"()\\\". Within the parentheses, you can pass arguments if the function requires any.\\n\\nHere is an example of how to call a function in Python:\\n\\n```python\\n# Define a function\\ndef greet(name):\\n    print(\\\"Hello, \\\" + name + \\\"!\\\")\\n\\n# Call the function\\ngreet(\\\"John\\\")\\n```\\n\\nIn this example, the function \\\"greet\\\" is defined with a single parameter \\\"name\\\" which is used to print a greeting message. To call the function and pass an argument, we write \\\"greet(\\\"John\\\")\\\". This will execute the function and print \\\"Hello, John!\\\".\\n\\nIt is important to note that the function should be defined before calling it in most programming languages, as the interpreter needs to know about the function's existence before it can be called.\"]\n",
      "\n",
      " Model B response: [\"Function calling is the process of invoking a function in a program. A function is a block of code that performs a specific task and can be reused multiple times in a program. Functions help to organize and modularize code, making it more readable and maintainable.\\n\\nTo call a function, you simply write the name of the function followed by parentheses () containing any arguments or parameters that the function requires. Here's an example:\\n```\\nfunction greet(name) {\\n  console.log(\\\"Hello, \\\" + name);\\n}\\n\\n\\/\\/ Call the greet function and pass in the argument \\\"Alice\\\"\\ngreet(\\\"Alice\\\");\\n```\\nIn the example above, the function `greet` takes one parameter, `name`, which is used inside the function to print a greeting message. To call the function, we write the name of the function (`greet`) followed by parentheses containing the argument `\\\"Alice\\\"`. When the function is called, the argument `\\\"Alice\\\"` is passed to the function, where it is assigned to the `name` parameter. The function then uses the `name` parameter to print the greeting message `\\\"Hello, Alice\\\"`.\\n\\nFunctions can also return values, which can be assigned to variables or used in expressions. For example:\\n```\\nfunction addNumbers(a, b) {\\n  return a + b;\\n}\\n\\n\\/\\/ Call the addNumbers function and assign the result to the variable sum\\nvar sum = addNumbers(3, 5);\\nconsole.log(sum); \\/\\/ Output: 8\\n```\\nIn the example above, the function `addNumbers` takes two parameters, `a` and `b`, adds them together, and returns the result. To call the function, we write the name of the function (`addNumbers`) followed by parentheses containing the arguments `3` and `5`. The function calculates the sum of the two arguments (`3 + 5 = 8`) and returns the result (`8`). We then assign the result to the variable `sum` and print it to the console.\"]\n"
     ]
    }
   ],
   "source": [
    "# Function to show the prompt and responses for a given instance\n",
    "def show_prompt_and_responses(index):\n",
    "    prompt = train.iloc[index][\"prompt\"]\n",
    "    response_a = train.iloc[index][\"response_a\"]\n",
    "    response_b = train.iloc[index][\"response_b\"]\n",
    "    return \"Prompt: \" + prompt + \"\\n\\n Model A response: \" + response_a + \"\\n\\n Model B response: \" + response_b\n",
    "\n",
    "# Show example\n",
    "print(show_prompt_and_responses(2))"
   ]
  },
  {
   "cell_type": "markdown",
   "id": "a63bc740",
   "metadata": {},
   "source": [
    "### Removing brackets"
   ]
  },
  {
   "cell_type": "code",
   "execution_count": 93,
   "id": "d7ede27b",
   "metadata": {},
   "outputs": [],
   "source": [
    "import re\n",
    "\n",
    "# Function to remove square brackets and parentheses\n",
    "def remove_brackets(text):\n",
    "    text = re.sub(r'[\\[\\]\\(\\)]', '', str(text))\n",
    "    return text\n",
    "\n",
    "# Function to apply another function to the train and test sets\n",
    "def apply_function(function_name):\n",
    "    train['prompt'] = train['prompt'].apply(function_name)\n",
    "    train['response_a'] = train['response_a'].apply(function_name)\n",
    "    train['response_b'] = train['response_b'].apply(function_name)\n",
    "    test['prompt'] = test['prompt'].apply(function_name)\n",
    "    test['response_a'] = test['response_a'].apply(function_name)\n",
    "    test['response_b'] = test['response_b'].apply(function_name)\n",
    "\n",
    "# Apply the function\n",
    "apply_function(remove_brackets)"
   ]
  },
  {
   "cell_type": "markdown",
   "id": "6be484ff",
   "metadata": {},
   "source": [
    "### Removing newline characters (`\\n`)"
   ]
  },
  {
   "cell_type": "code",
   "execution_count": 94,
   "id": "b344ca8f",
   "metadata": {},
   "outputs": [],
   "source": [
    "# Function to remove newline characters\n",
    "def remove_newlines(text):\n",
    "  return text.replace(\"\\\\n\", \" \")\n",
    "\n",
    "# Apply the function\n",
    "apply_function(remove_newlines)"
   ]
  },
  {
   "cell_type": "markdown",
   "id": "9043213a",
   "metadata": {},
   "source": [
    "### Converting all text to lowercase"
   ]
  },
  {
   "cell_type": "code",
   "execution_count": 95,
   "id": "7aec7615",
   "metadata": {},
   "outputs": [],
   "source": [
    "# Function to lowercase text\n",
    "def lowercase_text(text):\n",
    "    return text.lower()\n",
    "\n",
    "# Apply the function\n",
    "apply_function(lowercase_text)"
   ]
  },
  {
   "cell_type": "markdown",
   "id": "02bbcda8",
   "metadata": {},
   "source": [
    "### Removing punctuation"
   ]
  },
  {
   "cell_type": "code",
   "execution_count": 96,
   "id": "47292c35",
   "metadata": {},
   "outputs": [],
   "source": [
    "import string\n",
    "\n",
    "# Function to remove punctuation\n",
    "def remove_punctuation(text):\n",
    "    return text.translate(str.maketrans('', '', string.punctuation))\n",
    "\n",
    "# Apply the function\n",
    "apply_function(remove_punctuation)"
   ]
  },
  {
   "cell_type": "markdown",
   "id": "2682b3d5",
   "metadata": {},
   "source": [
    "### Removing stopwords"
   ]
  },
  {
   "cell_type": "code",
   "execution_count": 97,
   "id": "3fb8f785",
   "metadata": {},
   "outputs": [],
   "source": [
    "\"\"\"\n",
    "from nltk.corpus import stopwords\n",
    "\n",
    "# Function to remove stopwords\n",
    "def remove_stopwords(text):\n",
    "    words = text.split()\n",
    "    filtered_words = [word for word in words if word not in set(stopwords.words('english'))]\n",
    "    return ' '.join(filtered_words)\n",
    "\n",
    "# Apply the function\n",
    "apply_function(remove_stopwords)\n",
    "\"\"\";"
   ]
  },
  {
   "cell_type": "markdown",
   "id": "de5e0142",
   "metadata": {},
   "source": [
    "### Lemmatizing text"
   ]
  },
  {
   "cell_type": "code",
   "execution_count": 98,
   "id": "0b8cfc7a",
   "metadata": {},
   "outputs": [],
   "source": [
    "\"\"\"\n",
    "from nltk.stem import WordNetLemmatizer\n",
    "\n",
    "# Function to lemmatize text\n",
    "def lemmatize_text(text):\n",
    "    words = text.split()\n",
    "    lemmatized_words = [WordNetLemmatizer().lemmatize(word) for word in words]\n",
    "    return ' '.join(lemmatized_words)\n",
    "\n",
    "# Apply the function\n",
    "apply_function(lemmatize_text)\n",
    "\"\"\";"
   ]
  },
  {
   "cell_type": "markdown",
   "id": "02df672f",
   "metadata": {},
   "source": [
    "### Handling whitespaces"
   ]
  },
  {
   "cell_type": "code",
   "execution_count": 99,
   "id": "74f6ad22",
   "metadata": {},
   "outputs": [],
   "source": [
    "# Function to remove unnecessary whitespaces\n",
    "def handle_whitespace(text):\n",
    "    text = re.sub(r'\\s+', ' ', text).strip()\n",
    "    return text\n",
    "\n",
    "# Apply the function\n",
    "apply_function(handle_whitespace)"
   ]
  },
  {
   "cell_type": "markdown",
   "id": "6abf9601",
   "metadata": {},
   "source": [
    "### Example entry after cleaning"
   ]
  },
  {
   "cell_type": "code",
   "execution_count": 100,
   "id": "28067eec",
   "metadata": {},
   "outputs": [
    {
     "name": "stdout",
     "output_type": "stream",
     "text": [
      "Prompt: explain function calling how would you call a function\n",
      "\n",
      " Model A response: function calling is the process of invoking or executing a function in a programming language to call a function you need to use the functions name followed by parentheses within the parentheses you can pass arguments if the function requires any here is an example of how to call a function in python python define a function def greetname printhello name call the function greetjohn in this example the function greet is defined with a single parameter name which is used to print a greeting message to call the function and pass an argument we write greetjohn this will execute the function and print hello john it is important to note that the function should be defined before calling it in most programming languages as the interpreter needs to know about the functions existence before it can be called\n",
      "\n",
      " Model B response: function calling is the process of invoking a function in a program a function is a block of code that performs a specific task and can be reused multiple times in a program functions help to organize and modularize code making it more readable and maintainable to call a function you simply write the name of the function followed by parentheses containing any arguments or parameters that the function requires heres an example function greetname consoleloghello name call the greet function and pass in the argument alice greetalice in the example above the function greet takes one parameter name which is used inside the function to print a greeting message to call the function we write the name of the function greet followed by parentheses containing the argument alice when the function is called the argument alice is passed to the function where it is assigned to the name parameter the function then uses the name parameter to print the greeting message hello alice functions can also return values which can be assigned to variables or used in expressions for example function addnumbersa b return a b call the addnumbers function and assign the result to the variable sum var sum addnumbers3 5 consolelogsum output 8 in the example above the function addnumbers takes two parameters a and b adds them together and returns the result to call the function we write the name of the function addnumbers followed by parentheses containing the arguments 3 and 5 the function calculates the sum of the two arguments 3 5 8 and returns the result 8 we then assign the result to the variable sum and print it to the console\n"
     ]
    }
   ],
   "source": [
    "# Show the same entry after data cleaning\n",
    "print(show_prompt_and_responses(2))"
   ]
  },
  {
   "cell_type": "markdown",
   "id": "34eb3052",
   "metadata": {},
   "source": [
    "# Modeling"
   ]
  },
  {
   "cell_type": "markdown",
   "id": "4f7c9854",
   "metadata": {},
   "source": [
    "### Vectorizing text with TF-IDF"
   ]
  },
  {
   "cell_type": "code",
   "execution_count": 101,
   "id": "cdb2a819",
   "metadata": {},
   "outputs": [],
   "source": [
    "import pandas as pd\n",
    "from sklearn.feature_extraction.text import TfidfVectorizer\n",
    "import joblib\n",
    "\n",
    "# Function to vectorize text using TF-IDF\n",
    "def vectorize_text_simple(texts, max_features=5000, fitted_vectorizer=None):\n",
    "    if fitted_vectorizer is None:\n",
    "        vectorizer = TfidfVectorizer(max_features=max_features)\n",
    "        vectors = vectorizer.fit_transform(texts)\n",
    "        return vectors, vectorizer  # Return both vectors and vectorizer\n",
    "    else:\n",
    "        vectors = fitted_vectorizer.transform(texts)\n",
    "        return vectors, fitted_vectorizer #return vectors, and the passed vectorizer\n",
    "\n",
    "# Combine the prompt and responses into single text columns for vectorization\n",
    "train['combined_text'] = train['prompt'] + \" \" + train['response_a'] + \" \" + train['response_b']\n",
    "test['combined_text'] = test['prompt'] + \" \" + test['response_a'] + \" \" + test['response_b']\n",
    "\n",
    "# Vectorize the training data\n",
    "train_vectors, fitted_vectorizer = vectorize_text_simple(train['combined_text'])\n",
    "\n",
    "# Save the fitted vectorizer\n",
    "joblib.dump(fitted_vectorizer, 'tfidf_vectorizer.joblib')\n",
    "\n",
    "# Vectorize the testing data using the fitted vectorizer\n",
    "test_vectors, _ = vectorize_text_simple(test['combined_text'], fitted_vectorizer=fitted_vectorizer)"
   ]
  },
  {
   "cell_type": "markdown",
   "id": "3f41779a",
   "metadata": {},
   "source": [
    "### H2O AutoML"
   ]
  },
  {
   "cell_type": "code",
   "execution_count": 102,
   "id": "05925aba",
   "metadata": {},
   "outputs": [],
   "source": [
    "\"\"\"\n",
    "# Convert sparse matrix to pandas dataframe.\n",
    "train_vectors_df = pd.DataFrame.sparse.from_spmatrix(train_vectors)\n",
    "test_vectors_df = pd.DataFrame.sparse.from_spmatrix(test_vectors)\n",
    "\n",
    "# Add other columns\n",
    "train_h2o = h2o.H2OFrame(pd.concat([train_vectors_df, train[['winner', 'model_a', 'model_b']]], axis=1))\n",
    "test_h2o = h2o.H2OFrame(pd.concat([test_vectors_df, test[['model_a', 'model_b']]], axis=1))\n",
    "\n",
    "# Identify target and predictors\n",
    "y = \"winner\"\n",
    "x = train_h2o.columns\n",
    "x.remove(y)\n",
    "\n",
    "# Run AutoML\n",
    "aml = H2OAutoML(max_runtime_secs=10, seed=42) #Adjust max models as needed.\n",
    "aml.train(x=x, y=y, training_frame=train_h2o)\n",
    "\n",
    "# Get the best model\n",
    "best_model = aml.leader\n",
    "\n",
    "# Make predictions\n",
    "predictions = best_model.predict(test_h2o)\n",
    "\n",
    "# Convert predictions to a Pandas DataFrame\n",
    "predictions_df = predictions.as_data_frame()\n",
    "\n",
    "# Prepare submission (if applicable)\n",
    "# ... (your submission preparation code) ...\n",
    "\n",
    "# Shutdown H2O\n",
    "h2o.shutdown()\n",
    "\"\"\";"
   ]
  }
 ],
 "metadata": {
  "kernelspec": {
   "display_name": "Python 3 (ipykernel)",
   "language": "python",
   "name": "python3"
  },
  "language_info": {
   "codemirror_mode": {
    "name": "ipython",
    "version": 3
   },
   "file_extension": ".py",
   "mimetype": "text/x-python",
   "name": "python",
   "nbconvert_exporter": "python",
   "pygments_lexer": "ipython3",
   "version": "3.11.5"
  }
 },
 "nbformat": 4,
 "nbformat_minor": 5
}
